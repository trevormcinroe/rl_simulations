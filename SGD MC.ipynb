{
 "cells": [
  {
   "cell_type": "code",
   "execution_count": 90,
   "metadata": {},
   "outputs": [
    {
     "name": "stderr",
     "output_type": "stream",
     "text": [
      "C:\\Users\\trevor_mcinroe\\AppData\\Local\\Continuum\\miniconda2\\envs\\tf\\lib\\importlib\\_bootstrap.py:219: RuntimeWarning: numpy.ufunc size changed, may indicate binary incompatibility. Expected 192 from C header, got 216 from PyObject\n",
      "  return f(*args, **kwds)\n"
     ]
    }
   ],
   "source": [
    "import math\n",
    "import numpy as np\n",
    "import matplotlib.pyplot as plt\n",
    "import matplotlib\n",
    "matplotlib.rcParams['text.color'] = 'white'\n",
    "matplotlib.rcParams['axes.labelcolor'] = 'white'\n",
    "matplotlib.rcParams['xtick.color'] = 'white'\n",
    "matplotlib.rcParams['ytick.color'] = 'white'\n",
    "\n",
    "import  pandas as pd"
   ]
  },
  {
   "cell_type": "code",
   "execution_count": 56,
   "metadata": {},
   "outputs": [],
   "source": [
    "# Making 1000 states from 1 - 1000\n",
    "state_list = [x+1 for x in range(1000)]\n",
    "\n",
    "start_state = 500\n",
    "# Termination on left (state 1) = -1\n",
    "# Termination on right (state 1000) = 1\n",
    "\n",
    "# Aggregation \n",
    "state_aggregation = {\n",
    "    1: [x+1 for x in range(100)],\n",
    "    2: [x+1 for x in range(100, 200)],\n",
    "    3: [x+1 for x in range(200, 300)],\n",
    "    4: [x+1 for x in range(300, 400)],\n",
    "    5: [x+1 for x in range(400, 500)],\n",
    "    6: [x+1 for x in range(500, 600)],\n",
    "    7: [x+1 for x in range(600, 700)],\n",
    "    8: [x+1 for x in range(700, 800)],\n",
    "    9: [x+1 for x in range(800, 900)],\n",
    "    10: [x+1 for x in range(900, 1000)]\n",
    "}"
   ]
  },
  {
   "cell_type": "code",
   "execution_count": 57,
   "metadata": {},
   "outputs": [],
   "source": [
    "def determine_agg(new_state):\n",
    "    \n",
    "    for k,v in state_aggregation.items():\n",
    "        \n",
    "        if new_state in v:\n",
    "            \n",
    "            return k\n",
    "        \n",
    "        else:\n",
    "            \n",
    "            continue"
   ]
  },
  {
   "cell_type": "code",
   "execution_count": 58,
   "metadata": {},
   "outputs": [],
   "source": [
    "def build_feature_vector(agg_group):\n",
    "    \n",
    "    zeros = np.zeros(10)\n",
    "    zeros[agg_group-1] = 1\n",
    "    \n",
    "    return zeros"
   ]
  },
  {
   "cell_type": "code",
   "execution_count": 59,
   "metadata": {},
   "outputs": [],
   "source": [
    "def move_decision():\n",
    "    \n",
    "    # Random coinflip\n",
    "    if np.random.random() > 0.5:\n",
    "        \n",
    "        # Move right between [1, 100] steps\n",
    "        move = 'right'\n",
    "        number_move = np.random.randint(1, 100)\n",
    "        \n",
    "        return move, number_move\n",
    "    \n",
    "    else:\n",
    "        \n",
    "        # Else, left\n",
    "        move = 'left'\n",
    "        number_move = np.random.randint(1, 100)\n",
    "        \n",
    "        return move, number_move"
   ]
  },
  {
   "cell_type": "code",
   "execution_count": 71,
   "metadata": {},
   "outputs": [],
   "source": [
    "def move_action(current_state, move, number_move):\n",
    "    \"\"\"\n",
    "    Return the state index update as well as a bool for if the agent has teminated\n",
    "    \"\"\"\n",
    "    \n",
    "    if move == 'right':\n",
    "        \n",
    "        new_state = current_state + number_move\n",
    "        \n",
    "    if move == 'left':\n",
    "        \n",
    "        new_state = current_state  - number_move\n",
    "        \n",
    "    if new_state <= 1:\n",
    "        \n",
    "        return 1, True\n",
    "    \n",
    "    if  new_state >= 1000:\n",
    "        \n",
    "        return 1000,  True\n",
    "    \n",
    "    else:\n",
    "        \n",
    "        return  new_state, False"
   ]
  },
  {
   "cell_type": "code",
   "execution_count": 72,
   "metadata": {},
   "outputs": [],
   "source": [
    "def gen_episode(start_state):\n",
    "    \n",
    "    # Picking a move initially\n",
    "    move, number_move = move_decision()\n",
    "\n",
    "    # Making the move\n",
    "    new_state, terminated = move_action(current_state=start_state,\n",
    "                                       move=move,\n",
    "                                       number_move=number_move)\n",
    "    terminated = False\n",
    "    \n",
    "    state_trajectory = [determine_agg(start_state), determine_agg(new_state)]\n",
    "    i = 0\n",
    "    \n",
    "    while not terminated:\n",
    "        \n",
    "        # Picking a move\n",
    "        move, number_move = move_decision()\n",
    "        \n",
    "        # Making the move\n",
    "        new_state, terminated = move_action(current_state=new_state,\n",
    "                                           move=move,\n",
    "                                           number_move=number_move)\n",
    "        \n",
    "        # Adding the new state  to our state trajectory\n",
    "        state_trajectory.append(determine_agg(new_state))\n",
    "        \n",
    "    return state_trajectory"
   ]
  },
  {
   "cell_type": "code",
   "execution_count": 84,
   "metadata": {},
   "outputs": [],
   "source": [
    "def gradient_mc_update(w, state_group, reward, alpha):\n",
    "    \n",
    "    # Generating the state vector\n",
    "    sfv = build_feature_vector(state_group)\n",
    "    \n",
    "    w = w + alpha * (reward - np.inner(w, sfv)) * sfv\n",
    "    \n",
    "    return w"
   ]
  },
  {
   "cell_type": "code",
   "execution_count": 95,
   "metadata": {},
   "outputs": [],
   "source": [
    "w = np.zeros(10)\n",
    "a  = 2e-5\n",
    "iterations = 100000\n",
    "for i in range(iterations):\n",
    "\n",
    "    state_trajectory = gen_episode(start_state=start_state)\n",
    "\n",
    "    if state_trajectory[-1] == 10:\n",
    "        reward = 1\n",
    "    else:\n",
    "        reward = -1\n",
    "\n",
    "    for grp in state_trajectory:    \n",
    "\n",
    "        w = gradient_mc_update(w=w,\n",
    "                          state_group=grp,\n",
    "                          reward=reward,\n",
    "                          alpha=a)"
   ]
  },
  {
   "cell_type": "code",
   "execution_count": 98,
   "metadata": {},
   "outputs": [
    {
     "data": {
      "text/plain": [
       "[<matplotlib.lines.Line2D at 0x1fd828ef320>]"
      ]
     },
     "execution_count": 98,
     "metadata": {},
     "output_type": "execute_result"
    },
    {
     "data": {
      "image/png": "[encoded data removed]",
      "text/plain": [
       "<Figure size 432x288 with 1 Axes>"
      ]
     },
     "metadata": {},
     "output_type": "display_data"
    }
   ],
   "source": [
    "#  Going from group weights to state weights\n",
    "final_weights = []\n",
    "for weight in w:\n",
    "    \n",
    "    for i in range(100):\n",
    "        \n",
    "        final_weights.append(weight)\n",
    "    \n",
    "plt.plot(final_weights)"
   ]
  }
 ],
 "metadata": {
  "kernelspec": {
   "display_name": "Python 3",
   "language": "python",
   "name": "python3"
  },
  "language_info": {
   "codemirror_mode": {
    "name": "ipython",
    "version": 3
   },
   "file_extension": ".py",
   "mimetype": "text/x-python",
   "name": "python",
   "nbconvert_exporter": "python",
   "pygments_lexer": "ipython3",
   "version": "3.6.5"
  }
 },
 "nbformat": 4,
 "nbformat_minor": 2
}
